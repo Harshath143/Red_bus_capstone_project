{
 "cells": [
  {
   "cell_type": "code",
   "execution_count": 1,
   "metadata": {},
   "outputs": [],
   "source": [
    "import pandas as pd\n",
    "import pymysql\n",
    "import numpy as np"
   ]
  },
  {
   "cell_type": "code",
   "execution_count": 2,
   "metadata": {},
   "outputs": [
    {
     "data": {
      "text/html": [
       "<div>\n",
       "<style scoped>\n",
       "    .dataframe tbody tr th:only-of-type {\n",
       "        vertical-align: middle;\n",
       "    }\n",
       "\n",
       "    .dataframe tbody tr th {\n",
       "        vertical-align: top;\n",
       "    }\n",
       "\n",
       "    .dataframe thead th {\n",
       "        text-align: right;\n",
       "    }\n",
       "</style>\n",
       "<table border=\"1\" class=\"dataframe\">\n",
       "  <thead>\n",
       "    <tr style=\"text-align: right;\">\n",
       "      <th></th>\n",
       "      <th>Route_name</th>\n",
       "      <th>Route_link</th>\n",
       "      <th>Bus_name</th>\n",
       "      <th>Bus_type</th>\n",
       "      <th>Start_time</th>\n",
       "      <th>End_time</th>\n",
       "      <th>Total_duration</th>\n",
       "      <th>price</th>\n",
       "      <th>Seats_Available</th>\n",
       "      <th>Ratings</th>\n",
       "    </tr>\n",
       "  </thead>\n",
       "  <tbody>\n",
       "    <tr>\n",
       "      <th>0</th>\n",
       "      <td>Bangalore to Kozhikode</td>\n",
       "      <td>https://www.redbus.in/bus-tickets/bangalore-to...</td>\n",
       "      <td>KSRTC (Kerala) - 52</td>\n",
       "      <td>SWIFT-GARUDA A/C SEATER BUS</td>\n",
       "      <td>12:01</td>\n",
       "      <td>19:55</td>\n",
       "      <td>07h 54m</td>\n",
       "      <td>INR 627</td>\n",
       "      <td>9 Seats available</td>\n",
       "      <td>3.5</td>\n",
       "    </tr>\n",
       "    <tr>\n",
       "      <th>1</th>\n",
       "      <td>Bangalore to Kozhikode</td>\n",
       "      <td>https://www.redbus.in/bus-tickets/bangalore-to...</td>\n",
       "      <td>KSRTC (Kerala) - 1378</td>\n",
       "      <td>AC MULTI AXLE</td>\n",
       "      <td>13:46</td>\n",
       "      <td>21:25</td>\n",
       "      <td>07h 39m</td>\n",
       "      <td>INR 729</td>\n",
       "      <td>6 Seats available</td>\n",
       "      <td>2.0</td>\n",
       "    </tr>\n",
       "    <tr>\n",
       "      <th>2</th>\n",
       "      <td>Bangalore to Kozhikode</td>\n",
       "      <td>https://www.redbus.in/bus-tickets/bangalore-to...</td>\n",
       "      <td>KSRTC (Kerala) - 129</td>\n",
       "      <td>SWIFT-GARUDA A/C SEATER BUS</td>\n",
       "      <td>14:15</td>\n",
       "      <td>22:50</td>\n",
       "      <td>08h 35m</td>\n",
       "      <td>INR 627</td>\n",
       "      <td>30 Seats available</td>\n",
       "      <td>4.2</td>\n",
       "    </tr>\n",
       "    <tr>\n",
       "      <th>3</th>\n",
       "      <td>Bangalore to Kozhikode</td>\n",
       "      <td>https://www.redbus.in/bus-tickets/bangalore-to...</td>\n",
       "      <td>KSRTC (Kerala) - 235</td>\n",
       "      <td>Swift Deluxe Non AC Air Bus (2+2)</td>\n",
       "      <td>15:00</td>\n",
       "      <td>00:01</td>\n",
       "      <td>09h 01m</td>\n",
       "      <td>INR 620</td>\n",
       "      <td>21 Seats available</td>\n",
       "      <td>3.9</td>\n",
       "    </tr>\n",
       "    <tr>\n",
       "      <th>4</th>\n",
       "      <td>Bangalore to Kozhikode</td>\n",
       "      <td>https://www.redbus.in/bus-tickets/bangalore-to...</td>\n",
       "      <td>KSRTC (Kerala) - 370</td>\n",
       "      <td>AC MULTI AXLE</td>\n",
       "      <td>15:25</td>\n",
       "      <td>22:20</td>\n",
       "      <td>06h 55m</td>\n",
       "      <td>INR 729</td>\n",
       "      <td>9 Seats available</td>\n",
       "      <td>3.0</td>\n",
       "    </tr>\n",
       "    <tr>\n",
       "      <th>...</th>\n",
       "      <td>...</td>\n",
       "      <td>...</td>\n",
       "      <td>...</td>\n",
       "      <td>...</td>\n",
       "      <td>...</td>\n",
       "      <td>...</td>\n",
       "      <td>...</td>\n",
       "      <td>...</td>\n",
       "      <td>...</td>\n",
       "      <td>...</td>\n",
       "    </tr>\n",
       "    <tr>\n",
       "      <th>2682</th>\n",
       "      <td>Shimla to Chandigarh</td>\n",
       "      <td>https://www.redbus.in/bus-tickets/shimla-to-ch...</td>\n",
       "      <td>Zingbus Plus</td>\n",
       "      <td>Bharat Benz A/C Semi Sleeper (2+2)</td>\n",
       "      <td>20:30</td>\n",
       "      <td>23:45</td>\n",
       "      <td>03h 15m</td>\n",
       "      <td>INR 229</td>\n",
       "      <td>14 Seats available</td>\n",
       "      <td>NaN</td>\n",
       "    </tr>\n",
       "    <tr>\n",
       "      <th>2683</th>\n",
       "      <td>Shimla to Chandigarh</td>\n",
       "      <td>https://www.redbus.in/bus-tickets/shimla-to-ch...</td>\n",
       "      <td>Laxmi holidays</td>\n",
       "      <td>Scania Multi-Axle AC Semi Sleeper (2+2)</td>\n",
       "      <td>20:30</td>\n",
       "      <td>23:35</td>\n",
       "      <td>03h 05m</td>\n",
       "      <td>807</td>\n",
       "      <td>20 Seats available</td>\n",
       "      <td>NaN</td>\n",
       "    </tr>\n",
       "    <tr>\n",
       "      <th>2684</th>\n",
       "      <td>Shimla to Chandigarh</td>\n",
       "      <td>https://www.redbus.in/bus-tickets/shimla-to-ch...</td>\n",
       "      <td>City Land Travels</td>\n",
       "      <td>Volvo A/C Semi Sleeper (2+2)</td>\n",
       "      <td>22:00</td>\n",
       "      <td>00:50</td>\n",
       "      <td>02h 50m</td>\n",
       "      <td>765</td>\n",
       "      <td>24 Seats available</td>\n",
       "      <td>NaN</td>\n",
       "    </tr>\n",
       "    <tr>\n",
       "      <th>2685</th>\n",
       "      <td>Shimla to Chandigarh</td>\n",
       "      <td>https://www.redbus.in/bus-tickets/shimla-to-ch...</td>\n",
       "      <td>Laxmi holidays</td>\n",
       "      <td>Scania Multi-Axle AC Semi Sleeper (2+2)</td>\n",
       "      <td>20:30</td>\n",
       "      <td>23:00</td>\n",
       "      <td>02h 30m</td>\n",
       "      <td>807</td>\n",
       "      <td>20 Seats available</td>\n",
       "      <td>NaN</td>\n",
       "    </tr>\n",
       "    <tr>\n",
       "      <th>2686</th>\n",
       "      <td>Shimla to Chandigarh</td>\n",
       "      <td>https://www.redbus.in/bus-tickets/shimla-to-ch...</td>\n",
       "      <td>Ram Dalal Holidays</td>\n",
       "      <td>Mercedes Multi-Axle Semi Sleeper (2+2)</td>\n",
       "      <td>21:00</td>\n",
       "      <td>09:15</td>\n",
       "      <td>12h 15m</td>\n",
       "      <td>750</td>\n",
       "      <td>30 Seats available</td>\n",
       "      <td>NaN</td>\n",
       "    </tr>\n",
       "  </tbody>\n",
       "</table>\n",
       "<p>2687 rows × 10 columns</p>\n",
       "</div>"
      ],
      "text/plain": [
       "                  Route_name  \\\n",
       "0     Bangalore to Kozhikode   \n",
       "1     Bangalore to Kozhikode   \n",
       "2     Bangalore to Kozhikode   \n",
       "3     Bangalore to Kozhikode   \n",
       "4     Bangalore to Kozhikode   \n",
       "...                      ...   \n",
       "2682    Shimla to Chandigarh   \n",
       "2683    Shimla to Chandigarh   \n",
       "2684    Shimla to Chandigarh   \n",
       "2685    Shimla to Chandigarh   \n",
       "2686    Shimla to Chandigarh   \n",
       "\n",
       "                                             Route_link  \\\n",
       "0     https://www.redbus.in/bus-tickets/bangalore-to...   \n",
       "1     https://www.redbus.in/bus-tickets/bangalore-to...   \n",
       "2     https://www.redbus.in/bus-tickets/bangalore-to...   \n",
       "3     https://www.redbus.in/bus-tickets/bangalore-to...   \n",
       "4     https://www.redbus.in/bus-tickets/bangalore-to...   \n",
       "...                                                 ...   \n",
       "2682  https://www.redbus.in/bus-tickets/shimla-to-ch...   \n",
       "2683  https://www.redbus.in/bus-tickets/shimla-to-ch...   \n",
       "2684  https://www.redbus.in/bus-tickets/shimla-to-ch...   \n",
       "2685  https://www.redbus.in/bus-tickets/shimla-to-ch...   \n",
       "2686  https://www.redbus.in/bus-tickets/shimla-to-ch...   \n",
       "\n",
       "                   Bus_name                                 Bus_type  \\\n",
       "0       KSRTC (Kerala) - 52              SWIFT-GARUDA A/C SEATER BUS   \n",
       "1     KSRTC (Kerala) - 1378                            AC MULTI AXLE   \n",
       "2      KSRTC (Kerala) - 129              SWIFT-GARUDA A/C SEATER BUS   \n",
       "3      KSRTC (Kerala) - 235        Swift Deluxe Non AC Air Bus (2+2)   \n",
       "4      KSRTC (Kerala) - 370                            AC MULTI AXLE   \n",
       "...                     ...                                      ...   \n",
       "2682           Zingbus Plus       Bharat Benz A/C Semi Sleeper (2+2)   \n",
       "2683         Laxmi holidays  Scania Multi-Axle AC Semi Sleeper (2+2)   \n",
       "2684      City Land Travels             Volvo A/C Semi Sleeper (2+2)   \n",
       "2685         Laxmi holidays  Scania Multi-Axle AC Semi Sleeper (2+2)   \n",
       "2686     Ram Dalal Holidays   Mercedes Multi-Axle Semi Sleeper (2+2)   \n",
       "\n",
       "     Start_time End_time Total_duration    price     Seats_Available  Ratings  \n",
       "0         12:01    19:55        07h 54m  INR 627   9 Seats available      3.5  \n",
       "1         13:46    21:25        07h 39m  INR 729   6 Seats available      2.0  \n",
       "2         14:15    22:50        08h 35m  INR 627  30 Seats available      4.2  \n",
       "3         15:00    00:01        09h 01m  INR 620  21 Seats available      3.9  \n",
       "4         15:25    22:20        06h 55m  INR 729   9 Seats available      3.0  \n",
       "...         ...      ...            ...      ...                 ...      ...  \n",
       "2682      20:30    23:45        03h 15m  INR 229  14 Seats available      NaN  \n",
       "2683      20:30    23:35        03h 05m      807  20 Seats available      NaN  \n",
       "2684      22:00    00:50        02h 50m      765  24 Seats available      NaN  \n",
       "2685      20:30    23:00        02h 30m      807  20 Seats available      NaN  \n",
       "2686      21:00    09:15        12h 15m      750  30 Seats available      NaN  \n",
       "\n",
       "[2687 rows x 10 columns]"
      ]
     },
     "execution_count": 2,
     "metadata": {},
     "output_type": "execute_result"
    }
   ],
   "source": [
    "Final_df = pd.read_csv(\"df_buses_details.csv\")\n",
    "Final_df"
   ]
  },
  {
   "cell_type": "markdown",
   "metadata": {},
   "source": [
    "Data cleaning\n"
   ]
  },
  {
   "cell_type": "code",
   "execution_count": 3,
   "metadata": {},
   "outputs": [
    {
     "name": "stdout",
     "output_type": "stream",
     "text": [
      "<class 'pandas.core.frame.DataFrame'>\n",
      "RangeIndex: 2687 entries, 0 to 2686\n",
      "Data columns (total 10 columns):\n",
      " #   Column           Non-Null Count  Dtype  \n",
      "---  ------           --------------  -----  \n",
      " 0   Route_name       2687 non-null   object \n",
      " 1   Route_link       2687 non-null   object \n",
      " 2   Bus_name         2687 non-null   object \n",
      " 3   Bus_type         2687 non-null   object \n",
      " 4   Start_time       2687 non-null   object \n",
      " 5   End_time         2687 non-null   object \n",
      " 6   Total_duration   2687 non-null   object \n",
      " 7   price            2687 non-null   object \n",
      " 8   Seats_Available  2687 non-null   object \n",
      " 9   Ratings          2644 non-null   float64\n",
      "dtypes: float64(1), object(9)\n",
      "memory usage: 210.1+ KB\n"
     ]
    }
   ],
   "source": [
    "Final_df.info()"
   ]
  },
  {
   "cell_type": "code",
   "execution_count": 4,
   "metadata": {},
   "outputs": [
    {
     "data": {
      "text/plain": [
       "0       627.0\n",
       "1       729.0\n",
       "2       627.0\n",
       "3       620.0\n",
       "4       729.0\n",
       "        ...  \n",
       "2682    229.0\n",
       "2683    807.0\n",
       "2684    765.0\n",
       "2685    807.0\n",
       "2686    750.0\n",
       "Name: price, Length: 2687, dtype: float64"
      ]
     },
     "execution_count": 4,
     "metadata": {},
     "output_type": "execute_result"
    }
   ],
   "source": [
    "#convert the prices to numeric\n",
    "Final_df[\"price\"] = Final_df[\"price\"].str.replace(\"INR\",\"\")\n",
    "Final_df[\"price\"] = Final_df[\"price\"].astype(float)\n",
    "Final_df[\"price\"].fillna(0)"
   ]
  },
  {
   "cell_type": "code",
   "execution_count": 5,
   "metadata": {},
   "outputs": [
    {
     "name": "stdout",
     "output_type": "stream",
     "text": [
      "Index(['Route_name', 'Route_link', 'Bus_name', 'Bus_type', 'Start_time',\n",
      "       'End_time', 'Total_duration', 'price', 'Seats_Available', 'Ratings'],\n",
      "      dtype='object')\n"
     ]
    }
   ],
   "source": [
    "print(Final_df.columns)\n"
   ]
  },
  {
   "cell_type": "code",
   "execution_count": 15,
   "metadata": {},
   "outputs": [],
   "source": [
    "# Add 'Ratings' column with default NaN values if it doesn't exist\n",
    "#if 'Ratings' not in Final_df.columns:\n",
    "# Final_df['Ratings'] = pd.NA\n"
   ]
  },
  {
   "cell_type": "code",
   "execution_count": 16,
   "metadata": {},
   "outputs": [
    {
     "data": {
      "text/plain": [
       "'Clean the \\'Ratings\\' column\\nFinal_df[\"Ratings\"] = Final_df[\"Ratings\"].fillna(\"0\")  # Fill NaN with a default value\\nFinal_df[\"Ratings\"] = Final_df[\"Ratings\"].str.replace(\"New\", \"\", regex=False)\\nFinal_df[\"Ratings\"] = Final_df[\"Ratings\"].str.strip()\\nFinal_df[\"Ratings\"] = Final_df[\"Ratings\"].str.split().str[0]'"
      ]
     },
     "execution_count": 16,
     "metadata": {},
     "output_type": "execute_result"
    }
   ],
   "source": [
    "'''Clean the 'Ratings' column\n",
    "Final_df[\"Ratings\"] = Final_df[\"Ratings\"].fillna(\"0\")  # Fill NaN with a default value\n",
    "Final_df[\"Ratings\"] = Final_df[\"Ratings\"].str.replace(\"New\", \"\", regex=False)\n",
    "Final_df[\"Ratings\"] = Final_df[\"Ratings\"].str.strip()\n",
    "Final_df[\"Ratings\"] = Final_df[\"Ratings\"].str.split().str[0]'''\n"
   ]
  },
  {
   "cell_type": "code",
   "execution_count": 17,
   "metadata": {},
   "outputs": [
    {
     "data": {
      "text/plain": [
       "'fill 0 in the nan\\nFinal_df[\"Ratings\"] =Final_df[\"Ratings\"].str.replace(\"New\",\"\")\\nFinal_df[\"Ratings\"] =Final_df[\"Ratings\"].str.strip()\\nFinal_df[\"Ratings\"] =Final_df[\"Ratings\"].str.split().str[0]\\nFinal_df[\"Ratings\"]= pd.to_numeric(Final_df[\"Ratings\"],errors=\\'coerce\\')\\nFinal_df[\"Ratings\"].fillna(0,inplace=True)'"
      ]
     },
     "execution_count": 17,
     "metadata": {},
     "output_type": "execute_result"
    }
   ],
   "source": [
    "'''fill 0 in the nan\n",
    "Final_df[\"Ratings\"] =Final_df[\"Ratings\"].str.replace(\"New\",\"\")\n",
    "Final_df[\"Ratings\"] =Final_df[\"Ratings\"].str.strip()\n",
    "Final_df[\"Ratings\"] =Final_df[\"Ratings\"].str.split().str[0]\n",
    "Final_df[\"Ratings\"]= pd.to_numeric(Final_df[\"Ratings\"],errors='coerce')\n",
    "Final_df[\"Ratings\"].fillna(0,inplace=True)'''"
   ]
  },
  {
   "cell_type": "code",
   "execution_count": 6,
   "metadata": {},
   "outputs": [
    {
     "name": "stdout",
     "output_type": "stream",
     "text": [
      "<class 'pandas.core.frame.DataFrame'>\n",
      "RangeIndex: 2687 entries, 0 to 2686\n",
      "Data columns (total 10 columns):\n",
      " #   Column           Non-Null Count  Dtype  \n",
      "---  ------           --------------  -----  \n",
      " 0   Route_name       2687 non-null   object \n",
      " 1   Route_link       2687 non-null   object \n",
      " 2   Bus_name         2687 non-null   object \n",
      " 3   Bus_type         2687 non-null   object \n",
      " 4   Start_time       2687 non-null   object \n",
      " 5   End_time         2687 non-null   object \n",
      " 6   Total_duration   2687 non-null   object \n",
      " 7   price            2687 non-null   float64\n",
      " 8   Seats_Available  2687 non-null   object \n",
      " 9   Ratings          2644 non-null   float64\n",
      "dtypes: float64(2), object(8)\n",
      "memory usage: 210.1+ KB\n"
     ]
    }
   ],
   "source": [
    "Final_df.info()"
   ]
  },
  {
   "cell_type": "code",
   "execution_count": 7,
   "metadata": {},
   "outputs": [],
   "source": [
    "# replacing the nan value\n",
    "Final_df = Final_df.replace({np.nan:None})\n"
   ]
  },
  {
   "cell_type": "code",
   "execution_count": 8,
   "metadata": {},
   "outputs": [],
   "source": [
    "path = r\"C:/Users/harsh/OneDrive/Desktop/red_bus mini model/Final_df.csv\"\n",
    "Final_df.to_csv(path, index=False)"
   ]
  },
  {
   "cell_type": "markdown",
   "metadata": {},
   "source": [
    "Create a Mysql database\n"
   ]
  },
  {
   "cell_type": "code",
   "execution_count": 9,
   "metadata": {},
   "outputs": [
    {
     "name": "stdout",
     "output_type": "stream",
     "text": [
      "Table recreated successfully\n"
     ]
    }
   ],
   "source": [
    "import pymysql\n",
    "\n",
    "# Establish connection to MySQL\n",
    "conn = pymysql.connect(\n",
    "    host='127.0.0.1',\n",
    "    user='root',\n",
    "    passwd='123456',\n",
    "    db='RED_BUS_DETAILS'\n",
    ")\n",
    "\n",
    "# Create a cursor object\n",
    "my_cursor = conn.cursor()\n",
    "\n",
    "# Drop the table if it exists\n",
    "my_cursor.execute('DROP TABLE IF EXISTS bus_details')\n",
    "\n",
    "# Recreate the table with the correct columns\n",
    "my_cursor.execute('''  \n",
    "    CREATE TABLE IF NOT EXISTS bus_details(\n",
    "        ID INT AUTO_INCREMENT PRIMARY KEY,\n",
    "        Route_name TEXT NOT NULL,\n",
    "        Route_link TEXT NOT NULL,\n",
    "        Bus_name TEXT NOT NULL,\n",
    "        Bus_type TEXT NOT NULL,\n",
    "        Start_time TIME  NULL,\n",
    "        End_time TIME NULL,\n",
    "        Total_duration VARCHAR(255) NOT NULL,\n",
    "        price DECIMAL NULL,\n",
    "        Seats_Available INT NULL,\n",
    "        Ratings FLOAT NULL\n",
    "    )\n",
    "''')\n",
    "\n",
    "print(\"Table recreated successfully\")\n",
    "\n",
    "conn.commit()  # Ensure the transaction is committed\n",
    "my_cursor.close()\n",
    "conn.close()\n",
    "\n"
   ]
  },
  {
   "cell_type": "code",
   "execution_count": 10,
   "metadata": {},
   "outputs": [],
   "source": [
    "# to convert the seat Available to int format\n",
    "import re\n",
    "def clean_and_convert_seats(value):\n",
    "    try:\n",
    "        # Extract numeric part (removing non-numeric characters)\n",
    "        numeric_value = re.sub(r'[^\\d]', '', value)\n",
    "        # Convert to integer if possible\n",
    "        return int(numeric_value) if numeric_value else None\n",
    "    except ValueError:\n",
    "        return None\n",
    "\n",
    "# Apply the function to the Seats_Available column\n",
    "Final_df['Seats_Available'] = Final_df['Seats_Available'].apply(clean_and_convert_seats)\n",
    "\n",
    "# Drop rows where 'Seats_Available' is NaN (if any)\n",
    "Final_df = Final_df.dropna(subset=['Seats_Available'])\n",
    "\n",
    "# Ensure the column is in integer format\n",
    "Final_df['Seats_Available'] = Final_df['Seats_Available'].astype(int)"
   ]
  },
  {
   "cell_type": "code",
   "execution_count": 11,
   "metadata": {},
   "outputs": [
    {
     "name": "stdout",
     "output_type": "stream",
     "text": [
      "0     9\n",
      "1     6\n",
      "2    30\n",
      "3    21\n",
      "4     9\n",
      "5    13\n",
      "6    15\n",
      "7     7\n",
      "8    27\n",
      "9    15\n",
      "Name: Seats_Available, dtype: int32\n"
     ]
    }
   ],
   "source": [
    "print(Final_df['Seats_Available'].head(10))  # Print the first few entries to inspect the data"
   ]
  },
  {
   "cell_type": "code",
   "execution_count": 12,
   "metadata": {},
   "outputs": [
    {
     "name": "stdout",
     "output_type": "stream",
     "text": [
      "Sample data to insert: [['Bangalore to Kozhikode', 'https://www.redbus.in/bus-tickets/bangalore-to-kozhikode', 'KSRTC (Kerala) - 52', 'SWIFT-GARUDA A/C SEATER BUS', '12:01', '19:55', '07h 54m', 627.0, 9, 3.5], ['Bangalore to Kozhikode', 'https://www.redbus.in/bus-tickets/bangalore-to-kozhikode', 'KSRTC (Kerala) - 1378', 'AC MULTI AXLE', '13:46', '21:25', '07h 39m', 729.0, 6, 2.0], ['Bangalore to Kozhikode', 'https://www.redbus.in/bus-tickets/bangalore-to-kozhikode', 'KSRTC (Kerala) - 129', 'SWIFT-GARUDA A/C SEATER BUS', '14:15', '22:50', '08h 35m', 627.0, 30, 4.2], ['Bangalore to Kozhikode', 'https://www.redbus.in/bus-tickets/bangalore-to-kozhikode', 'KSRTC (Kerala) - 235', 'Swift Deluxe Non AC Air Bus (2+2)', '15:00', '00:01', '09h 01m', 620.0, 21, 3.9], ['Bangalore to Kozhikode', 'https://www.redbus.in/bus-tickets/bangalore-to-kozhikode', 'KSRTC (Kerala) - 370', 'AC MULTI AXLE', '15:25', '22:20', '06h 55m', 729.0, 9, 3.0]]\n",
      "Values inserted successfully\n"
     ]
    }
   ],
   "source": [
    "import pymysql\n",
    "import pandas as pd\n",
    "\n",
    "# Assuming Final_df is already defined and contains your data\n",
    "\n",
    "# Connect to the database\n",
    "conn = pymysql.connect(\n",
    "    host='localhost',\n",
    "    user='root',\n",
    "    password='123456',\n",
    "    database='RED_BUS_DETAILS'\n",
    ")\n",
    "\n",
    "# Create a cursor object\n",
    "my_cursor = conn.cursor()\n",
    "\n",
    "# SQL Insert Query\n",
    "insert_query = '''INSERT INTO bus_details(\n",
    "                    Route_name,\n",
    "                    Route_link,\n",
    "                    Bus_name,\n",
    "                    Bus_type,\n",
    "                    Start_time,\n",
    "                    End_time,\n",
    "                    Total_duration,\n",
    "                    price,\n",
    "                    Seats_Available,\n",
    "                    Ratings)\n",
    "                VALUES(%s, %s, %s, %s, %s, %s, %s, %s, %s, %s)'''\n",
    "\n",
    "# Ensure the DataFrame is not empty\n",
    "if not Final_df.empty:\n",
    "    # Convert DataFrame to list of tuples\n",
    "    data = Final_df.values.tolist()\n",
    "    \n",
    "    # Print first few rows of data to verify\n",
    "    print(\"Sample data to insert:\", data[:5])\n",
    "    \n",
    "    try:\n",
    "        # Execute the insert query for multiple rows at once\n",
    "        my_cursor.executemany(insert_query, data)\n",
    "        \n",
    "        # Commit the transaction\n",
    "        conn.commit()\n",
    "        \n",
    "        print(\"Values inserted successfully\")\n",
    "    \n",
    "    except pymysql.MySQLError as e:\n",
    "        print(f\"Error inserting data into the database: {e}\")\n",
    "\n",
    "    finally:\n",
    "        # Close the cursor and connection\n",
    "        if my_cursor:\n",
    "            my_cursor.close()\n",
    "        if conn:\n",
    "            conn.close()\n",
    "else:\n",
    "    print(\"Final_df is empty, no data to insert.\")\n"
   ]
  },
  {
   "cell_type": "code",
   "execution_count": 19,
   "metadata": {},
   "outputs": [
    {
     "name": "stdout",
     "output_type": "stream",
     "text": [
      "0    3.5\n",
      "1    2.0\n",
      "2    4.2\n",
      "3    3.9\n",
      "4    3.0\n",
      "Name: Ratings, dtype: object\n"
     ]
    }
   ],
   "source": [
    "print(Final_df[\"Ratings\"].head())"
   ]
  },
  {
   "cell_type": "code",
   "execution_count": null,
   "metadata": {},
   "outputs": [],
   "source": []
  }
 ],
 "metadata": {
  "kernelspec": {
   "display_name": "Python 3",
   "language": "python",
   "name": "python3"
  },
  "language_info": {
   "codemirror_mode": {
    "name": "ipython",
    "version": 3
   },
   "file_extension": ".py",
   "mimetype": "text/x-python",
   "name": "python",
   "nbconvert_exporter": "python",
   "pygments_lexer": "ipython3",
   "version": "3.11.2"
  }
 },
 "nbformat": 4,
 "nbformat_minor": 2
}
